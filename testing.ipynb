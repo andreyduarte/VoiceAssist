{
 "cells": [
  {
   "cell_type": "code",
   "execution_count": 1,
   "metadata": {},
   "outputs": [
    {
     "name": "stdout",
     "output_type": "stream",
     "text": [
      " > tts_models/multilingual/multi-dataset/xtts_v2 is already downloaded.\n"
     ]
    },
    {
     "name": "stderr",
     "output_type": "stream",
     "text": [
      "c:\\Users\\Andrey\\Desktop\\VoiceAssist\\.venv\\lib\\site-packages\\tqdm\\auto.py:21: TqdmWarning: IProgress not found. Please update jupyter and ipywidgets. See https://ipywidgets.readthedocs.io/en/stable/user_install.html\n",
      "  from .autonotebook import tqdm as notebook_tqdm\n"
     ]
    },
    {
     "name": "stdout",
     "output_type": "stream",
     "text": [
      " > Using model: xtts\n",
      " > Text splitted to sentences.\n",
      "['Ei!', 'Tudo bem com você?']\n",
      " > Processing time: 22.921683073043823\n",
      " > Real-time factor: 5.908893468955952\n"
     ]
    },
    {
     "data": {
      "text/plain": [
       "'output.wav'"
      ]
     },
     "execution_count": 1,
     "metadata": {},
     "output_type": "execute_result"
    }
   ],
   "source": [
    "import torch\n",
    "from TTS.api import TTS\n",
    "\n",
    "# Get device\n",
    "device = \"cuda\" if torch.cuda.is_available() else \"cpu\"\n",
    "\n",
    "# Init TTS\n",
    "tts = TTS(\"tts_models/multilingual/multi-dataset/xtts_v2\").to(device)\n",
    "\n",
    "# Run TTS\n",
    "# Text to speech to a file\n",
    "tts.tts_to_file(text=\"Ei! Tudo bem com você?\", speaker_wav=\"scarlett.wav\", language=\"pt\", file_path=\"output.wav\")"
   ]
  },
  {
   "cell_type": "code",
   "execution_count": 9,
   "metadata": {},
   "outputs": [],
   "source": [
    "import json\n",
    "import trafilatura\n",
    "import google.generativeai as genai\n",
    "import torch\n",
    "from TTS.api import TTS\n",
    "\n",
    "# Get device\n",
    "device = \"cuda\" if torch.cuda.is_available() else \"cpu\"\n",
    "\n",
    "# Init TTS\n",
    "tts = TTS(\"tts_models/multilingual/multi-dataset/xtts_v2\").to(device)\n",
    "\n",
    "# Configurações do Gemini\n",
    "generation_config = {\n",
    "  \"temperature\": 0.8,\n",
    "  \"top_p\": 0.95,\n",
    "  \"top_k\": 64,\n",
    "  \"max_output_tokens\": 1024,\n",
    "  \"response_mime_type\": \"application/json\",\n",
    "}\n",
    "safety_settings = [\n",
    "  {\n",
    "    \"category\": \"HARM_CATEGORY_HARASSMENT\",\n",
    "    \"threshold\": \"BLOCK_NONE\",\n",
    "  },\n",
    "  {\n",
    "    \"category\": \"HARM_CATEGORY_HATE_SPEECH\",\n",
    "    \"threshold\": \"BLOCK_NONE\",\n",
    "  },\n",
    "  {\n",
    "    \"category\": \"HARM_CATEGORY_SEXUALLY_EXPLICIT\",\n",
    "    \"threshold\": \"BLOCK_NONE\",\n",
    "  },\n",
    "  {\n",
    "    \"category\": \"HARM_CATEGORY_DANGEROUS_CONTENT\",\n",
    "    \"threshold\": \"BLOCK_NONE\",\n",
    "  },\n",
    "]\n",
    "model = genai.GenerativeModel(\n",
    "          model_name=\"gemini-1.5-flash-latest\",\n",
    "          safety_settings=safety_settings,\n",
    "          generation_config=generation_config,\n",
    "        )\n",
    "\n",
    "def say(text, metadata):\n",
    "    \"\"\"\n",
    "    Gera áudio de fala a partir do texto fornecido e salva em um arquivo WAV.\n",
    "\n",
    "    Args:\n",
    "        text (str): O texto a ser convertido em fala.\n",
    "        speed (float, optional): A velocidade de fala, entre 0.1 e 2.0. Defaults to 0.9.\n",
    "        filename (str, optional): O nome do arquivo WAV de saída. Defaults to \"output.wav\".\n",
    "    \"\"\"\n",
    "    tts.tts_to_file(text=text, speaker_wav=\"scarlett.wav\", language=\"pt\", file_path=f\"{metadata['title']}.wav\")\n",
    "\n",
    "\n",
    "def extract_metada(text):\n",
    "    prompt = f\"\"\"Observe the text and extract the following information:\n",
    "{'{'}\n",
    "    \"title\": string, # Generate or Extract a title for the text\n",
    "    \"description\": string # Short description of the content of the text\n",
    "{'}'}\n",
    "\n",
    "Text: \n",
    "```\n",
    "{text}\n",
    "```\n",
    "\"\"\"\n",
    "    done = False\n",
    "    while not done:\n",
    "        try:\n",
    "            response = model.generate_content(prompt)\n",
    "        except Exception as e:\n",
    "            print(e)\n",
    "    return json.loads(response)\n",
    "\n",
    "def read_page(url):\n",
    "    \"\"\"\n",
    "    Lê uma página da Web, extrai o texto e o converte em fala, salvando em um único arquivo WAV.\n",
    "\n",
    "    Args:\n",
    "        url (str): O URL da página da Web.\n",
    "        filename (str, optional): O nome do arquivo WAV de saída. Defaults to \"output.wav\".\n",
    "    \"\"\"\n",
    "    page = trafilatura.fetch_url(url)\n",
    "    text = trafilatura.extract(page)\n",
    "    #metadata = extract_metada(text)\n",
    "    say(text, metadata={'title':'SCP 724'})"
   ]
  },
  {
   "cell_type": "code",
   "execution_count": 10,
   "metadata": {},
   "outputs": [
    {
     "name": "stdout",
     "output_type": "stream",
     "text": [
      " > Text splitted to sentences.\n",
      "['Item #: SCP-724', 'Object Class: Safe', 'Special Containment Procedures: Due to its immobility, SCP-724 is located in the central vault of Site-54.', 'This vault is surrounded by a set of hinged shielding plates that can be closed to block radio signals from reaching SCP-724 and suppress the anomaly.', 'SCP-724-1 specimens can be kept in standard-size cages, although any that are currently being monitored should be separated from each other by at least moderate soundproofing.', 'Individuals not being monitored are kept in kennel sections with Faraday shielding.', 'Transport of SCP-724-1 specimens must not use unshielded cages except by written permission of Researcher M███████.', 'Site-54 maintains the outward appearance of a corporate office/research facility, in the name of a Foundation front company (S██████ C██ P███████, Inc.).', 'The lobby is to be staffed by Foundation security personnel posing as civilian receptionists and security guards.', 'Description: SCP-724 is an anomaly covering approximately 8 m in diameter, located near the intersection of Interstate ██ and Route █ in ██████, ██.', \"It occurs only when all of the surrounding radio towers (designated SCP-724-A through SCP-724-█) are broadcasting actively, and when the signals from these towers are able to reach the anomaly's location without significant interference.\", 'While SCP-724 is active, any individual of the species Procyon lotor (North American raccoon) that passes through the anomaly is permanently altered by unknown means.', 'Altered subjects (collectively designated SCP-724-1) begin to frequently produce abnormal vocalizations including human voices, music, static, modulation/demodulation signals, [DATA EXPUNGED].', 'Subjects do not appear to understand or control the content of these vocalizations, simply acting as passive receivers.', 'The volume and clarity of vocalizations increases with proximity to the active SCP-724 anomaly.', 'No anatomical or chemical alterations have been identified in SCP-724-1 compared to unaltered specimens.', 'These vocalizations have been found to correspond to radio transmissions from sources other than the towers surrounding SCP-724.', 'Transmissions captured by SCP-724 have been confirmed to originate from numerous locations throughout the Northern Hemisphere, and occur throughout the RF spectrum (a log of identified transmission sources can be found in Document 724-█).', 'Each subject seems to have a distinct \"remote receiver\" at a fixed location, frequency, and protocol.', \"The location and tuning of each individual's receiver appears to depend upon the incident signals triggering the anomaly at the time the subject is altered, based on factors such as amplitude and frequency.\", 'Addendum 724-1: SCP-724 is believed to have first occurred in 19██, when SCP-724-█ (the most recently-constructed tower) began broadcasting.', 'Reports of \"talking raccoons\" in the area prompted Foundation investigation, and the anomaly was located using several affected subjects.', 'Efforts to capture all wild SCP-724-1 are ongoing.', 'The relationship between the surrounding radio towers was discovered when SCP-724-C was taken offline for maintenance and the anomaly consequently ceased activity during the maintenance period.', 'After extensive discussion, it was decided to allow the towers producing SCP-724 to continue transmitting.', 'Addendum 724-2: Research is ongoing to identify the relevant factors in the generation of the SCP-724 anomaly, so that no further anomalies are accidentally created.', 'A better understanding of the effects of the various contributing factors could also have significant practical utility in surveillance and communications applications.', \"Addendum 724-3: As an experiment, several SCP-724-1 were allowed to mate with affected and unaffected specimens, to determine SCP-724's effects (if any) on subsequent generations.\", 'Of the resultant offspring, 100% have thus far been SCP-724-1 themselves.', 'Second-generation offspring of mixed-heritage parents have been affected approximately 7█% of the time.', 'Offspring of parents whose \"receiver\" locations and/or tunings are known generally appear to have their own \"receiver\" located and tuned somewhere between those of their parents.', 'Dr. M███████ has requested permission to begin a selective breeding program [Request currently under review].']\n",
      "[!] Warning: The text length exceeds the character limit of 203 for language 'pt', this might cause truncated audio.\n",
      "[!] Warning: The text length exceeds the character limit of 203 for language 'pt', this might cause truncated audio.\n",
      "[!] Warning: The text length exceeds the character limit of 203 for language 'pt', this might cause truncated audio.\n"
     ]
    }
   ],
   "source": [
    "read_page(\"https://scp-wiki.wikidot.com/scp-724\")"
   ]
  }
 ],
 "metadata": {
  "kernelspec": {
   "display_name": ".venv",
   "language": "python",
   "name": "python3"
  },
  "language_info": {
   "codemirror_mode": {
    "name": "ipython",
    "version": 3
   },
   "file_extension": ".py",
   "mimetype": "text/x-python",
   "name": "python",
   "nbconvert_exporter": "python",
   "pygments_lexer": "ipython3",
   "version": "3.10.0"
  }
 },
 "nbformat": 4,
 "nbformat_minor": 2
}
